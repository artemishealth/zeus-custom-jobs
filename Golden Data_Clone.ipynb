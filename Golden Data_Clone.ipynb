{
 "cells": [
  {
   "cell_type": "markdown",
   "metadata": {
    "application/vnd.databricks.v1+cell": {
     "cellMetadata": {
      "byteLimit": 2048000,
      "rowLimit": 10000
     },
     "inputWidgets": {},
     "nuid": "16deee13-4266-4a05-99a7-004d7c37c55c",
     "showTitle": false,
     "title": ""
    }
   },
   "source": [
    "# Installation of Requirements\n",
    "\n",
    "The cluster running this notebook will require the following installed packages to function.  We kept it minimal because of the issues with pickling things into dataframe operations for pyspark - so any libraries that you add to simplify this will need to be vetted that they actually do their pickling in a way that's not stupid and will let it be parallelized via spark well.\n",
    "\n",
    "* pyspark\n",
    "* pandas"
   ]
  },
  {
   "cell_type": "markdown",
   "metadata": {
    "application/vnd.databricks.v1+cell": {
     "cellMetadata": {
      "byteLimit": 2048000,
      "rowLimit": 10000
     },
     "inputWidgets": {},
     "nuid": "ed0250a1-3b43-4904-b222-b485671c068c",
     "showTitle": false,
     "title": ""
    }
   },
   "source": [
    "# Imports\n",
    "\n",
    "Keeping all the imports in one place so they're easy to work through or edit as needed.  These can probably be cleaned up some now that things are functional, but I haven't gotten to that yet."
   ]
  },
  {
   "cell_type": "code",
   "execution_count": 0,
   "metadata": {
    "application/vnd.databricks.v1+cell": {
     "cellMetadata": {
      "byteLimit": 2048000,
      "rowLimit": 10000
     },
     "inputWidgets": {},
     "nuid": "c2c46e30-c77c-44dc-9ea7-8ce589d15312",
     "showTitle": false,
     "title": ""
    }
   },
   "outputs": [
    {
     "output_type": "display_data",
     "data": {
      "application/vnd.databricks.v1+bamboolib_hint": "{\"pd.DataFrames\": [], \"version\": \"0.0.1\"}",
      "text/plain": []
     },
     "metadata": {},
     "output_type": "display_data"
    }
   ],
   "source": [
    "import hashlib\n",
    "import hmac\n",
    "import copy\n",
    "import boto3\n",
    "import pandas as pd\n",
    "from codecs import encode, decode\n",
    "from random import randrange, shuffle\n",
    "from collections import defaultdict\n",
    "from functools import reduce\n",
    "from decimal import Decimal\n",
    "from pyspark.sql.functions import col, udf, max\n",
    "from pyspark.sql.types import StringType, DateType, FloatType, NullType, DecimalType\n",
    "import pyspark.sql.functions as fn\n",
    "from pyspark.sql.functions import dense_rank\n",
    "from pyspark.sql import SparkSession\n",
    "from pyspark.sql import Window\n",
    "import random\n",
    "from decimal import Decimal"
   ]
  },
  {
   "cell_type": "markdown",
   "metadata": {
    "application/vnd.databricks.v1+cell": {
     "cellMetadata": {
      "byteLimit": 2048000,
      "rowLimit": 10000
     },
     "inputWidgets": {},
     "nuid": "e9020777-286e-443b-b763-e8845e05fbd1",
     "showTitle": false,
     "title": ""
    }
   },
   "source": [
    "# Secrets and Constants\n",
    "\n",
    "The secret key should actually be randomly generated, but for testing purposes, having it set static will mean that you can consistently compare between runs.  That may or may not be desired, depending on how we want to approach this data or the quality behind it.  Please just know that the secret key is only set statically right now for testing, and should be random to prevent the decryption of any fields that rely on the secret key for salting as it's encrypted."
   ]
  },
  {
   "cell_type": "code",
   "execution_count": 0,
   "metadata": {
    "application/vnd.databricks.v1+cell": {
     "cellMetadata": {
      "byteLimit": 2048000,
      "rowLimit": 10000
     },
     "inputWidgets": {},
     "nuid": "1ba3d0e1-81a8-49cd-98af-62a4dd14674a",
     "showTitle": false,
     "title": ""
    }
   },
   "outputs": [],
   "source": [
    "# These should be randomly generated for a run, but should be consistent across all files in the run\n",
    "SECRET_KEY = \"EF4359D8D580AA4F7F036D6F04FC6A94\"\n",
    "RUN_NUMBER = 0  # This will increment with each run to keep the testing files separate on the same day.\n",
    "COMPANY_NAME = \"golden_company\"\n",
    "\n",
    "# Location to upload files\n",
    "BASE_TARGET_DIRECTORY = F\"/mnt/artemis-client-etl-data/zeus_files/{COMPANY_NAME}/\"\n",
    "\n",
    "# Used for naming files\n",
    "RUN_DATE = str(pd.Timestamp.now().date())\n",
    "\n",
    "# Just a constant loaded form S3 files.\n",
    "CITY_DF = spark.read.parquet(\"s3a://artemis-client-etl-data/zeus_files/references/current/zip_codes/\")"
   ]
  },
  {
   "cell_type": "markdown",
   "metadata": {
    "application/vnd.databricks.v1+cell": {
     "cellMetadata": {
      "byteLimit": 2048000,
      "rowLimit": 10000
     },
     "inputWidgets": {},
     "nuid": "36c1ea36-be35-4cad-a4b3-dcb7b993d84e",
     "showTitle": false,
     "title": ""
    }
   },
   "source": [
    "# Function Definitions\n",
    "\n",
    "Add any new translations that need to be used here - for example, if you have a new column type that you want to run row conversions on, add the function here that you'll call, and then update the run logic section to include that converter.  Then you'd add any conversions in the conversions section so that they'll be picked up."
   ]
  },
  {
   "cell_type": "code",
   "execution_count": 0,
   "metadata": {
    "application/vnd.databricks.v1+cell": {
     "cellMetadata": {
      "byteLimit": 2048000,
      "rowLimit": 10000
     },
     "inputWidgets": {},
     "nuid": "cffdb60e-1a3e-4bec-9e18-7a0ac4a4cac4",
     "showTitle": false,
     "title": ""
    }
   },
   "outputs": [],
   "source": [
    "def _get_zip_shuffle():\n",
    "    state_zips = defaultdict(set)\n",
    "    for state in (row.state for row in CITY_DF.select('state').distinct().collect()):\n",
    "        state_df = CITY_DF[CITY_DF['state'] == state]\n",
    "        for row in state_df.collect():\n",
    "            for zipcode in str(row.text_zip).split():\n",
    "                state_zips[state].add(zipcode)\n",
    "    zipmap = {}\n",
    "    for state, zips in state_zips.items():\n",
    "        before = list(zips)\n",
    "        after = list(zips)\n",
    "        shuffle(after)\n",
    "        zipmap[state] = dict(zip(before, after))\n",
    "        \n",
    "    shuffled_zipmap = reduce(lambda a, b: {**a, **b}, zipmap.values())\n",
    "    return shuffled_zipmap\n",
    "\n",
    "def _get_cities_by_zip():\n",
    "  state_cities = defaultdict(set)\n",
    "  for state in (row.state for row in CITY_DF.select('state').distinct().collect()):\n",
    "      state_df = CITY_DF[CITY_DF['state'] == state]\n",
    "      for row in state_df.collect():\n",
    "          for city in str(row.primary_city).split():\n",
    "              state_cities[str(state).lower()].add(str(row['primary_city']).lower())\n",
    "\n",
    "  citymap = {}\n",
    "  for state, city in state_cities.items():\n",
    "    before = list(city)\n",
    "    after = list(city)\n",
    "    shuffle(after)\n",
    "    citymap[state] = dict(zip(before, after))\n",
    "        \n",
    "  shuffled_citymap = reduce(lambda a, b: {**a, **b}, citymap.values())\n",
    "  return shuffled_citymap\n",
    "  \n",
    "# input_string: str\n",
    "def _get_business_orgs_map(business_org_df):\n",
    "  business_df = business_org_df.collect()\n",
    "  busines_org_shuffle = {}\n",
    "  for row in business_df:\n",
    "      busines_org_shuffle[row[\"employee_department_id\"]] = row[\"ouput_employee_department\"]\n",
    "  return busines_org_shuffle\n",
    "\n",
    "def remap_hris_business_orgs(df, column_name):\n",
    "  windowSpec  = Window.orderBy(column_name)\n",
    "  df_filtered = df.filter(f'{column_name} is not null')\n",
    "  df_ranked = df_filtered.withColumn('output_' + column_name, dense_rank().over(windowSpec))\n",
    "  final_df = df_ranked.drop(column_name).withColumnRenamed('output_' + column_name, column_name)\n",
    "  return final_df\n",
    "\n",
    "\n",
    "def string_scramble(input_string: str) -> str:\n",
    "    \"\"\"Take a string and encrypt it witht he string_cipher.\"\"\"\n",
    "    if not input_string:\n",
    "      result = ''\n",
    "    else:\n",
    "      signature = hmac.new(\n",
    "        SECRET_KEY.encode(),\n",
    "        msg=input_string.encode(),\n",
    "        digestmod=hashlib.sha256\n",
    "      ).hexdigest()\n",
    "      result = signature[:len(input_string)]\n",
    "    return result\n",
    "\n",
    "\n",
    "def member_id_scramble(input_string: str) -> str:\n",
    "    \"\"\"Take a string and encrypt it witht he string_cipher.\"\"\"\n",
    "    \n",
    "    # Scramble the 32 digit id portion of the member consistently\n",
    "    og_id_string = input_string[-32:]\n",
    "    \n",
    "    # Tack on the company_id\n",
    "    result = hashlib.md5(og_id_string.encode()).hexdigest()\n",
    "    \n",
    "    new_member_id = \"golden_dataset-\" + result\n",
    "    return str(new_member_id)\n",
    "  \n",
    "\n",
    "def date_shift(shift_days: int, input_date_string: str, random_shift_delta: int = 5):\n",
    "    \"\"\"Shift a date by the shift days +- the random shift delta.\"\"\"\n",
    "    if not input_date_string:\n",
    "      return ''\n",
    "\n",
    "    try:\n",
    "      date_to_shift = pd.Timestamp(input_date_string).date()\n",
    "      shifted_date = date_to_shift + pd.Timedelta(days=shift_days)\n",
    "\n",
    "      rand_shift_amount = randrange(-random_shift_delta, random_shift_delta)\n",
    "      random_shifted_date = shifted_date + pd.Timedelta(days=rand_shift_amount)\n",
    "      result = str(random_shifted_date)\n",
    "    except pd.errors.OutOfBoundsDatetime:\n",
    "      result = ''\n",
    "\n",
    "    return result\n",
    "\n",
    "\n",
    "def pass_null(input_data):\n",
    "    return ''\n",
    "  \n",
    "\n",
    "def remap_employer(input_data):\n",
    "    return \"GOLDEN EMPLOYER\"\n",
    "\n",
    "\n",
    "def passthrough(input_data):\n",
    "    return input_data\n",
    "\n",
    "\n",
    "def financial_shift(input_amount: FloatType) -> DecimalType:\n",
    "    \"\"\"Shift a financial float number by +- the shift percentage.\"\"\"\n",
    "    \n",
    "    if not input_amount or input_amount == 0.00:\n",
    "      result = round(0.00, 2)\n",
    "\n",
    "    else:\n",
    "      input_amount = float(input_amount)\n",
    "\n",
    "      prct_shift = 0.37\n",
    "      shiftfloat = float(prct_shift)\n",
    "\n",
    "      # Shift the input amount by a random percentage above or below the actual.\n",
    "      result = input_amount + round((input_amount * shiftfloat),2)\n",
    "      \n",
    "    return result\n",
    "\n",
    "\n",
    "def ssn_scramble(input_ssn):\n",
    "    \"\"\"Return an encrypted SSN\"\"\"\n",
    "    # One way numerical cipher, match the digit length in output\n",
    "    if not input_ssn:\n",
    "      result = ''\n",
    "    else:      \n",
    "      signature = hmac.new(\n",
    "        SECRET_KEY.encode(),\n",
    "        msg=input_ssn.encode(),\n",
    "        digestmod=hashlib.sha256\n",
    "      ).hexdigest()\n",
    "      numbers = str(int(signature, 16))\n",
    "      result = numbers[:len(input_ssn)]\n",
    "    return result\n",
    "\n",
    "\n",
    "def claim_id_scramble(input_claim_number):\n",
    "    \"\"\"Return an encrypted claim number\"\"\"\n",
    "    # One way numerical cipher, match the digit length in output\n",
    "    if not input_claim_number:\n",
    "      result = ''\n",
    "    else:      \n",
    "      signature = hmac.new(\n",
    "        SECRET_KEY.encode(),\n",
    "        msg=input_claim_number.encode(),\n",
    "        digestmod=hashlib.sha256\n",
    "      ).hexdigest()\n",
    "      numbers = str(int(signature, 16))\n",
    "      result = numbers[:len(input_claim_number)]\n",
    "    return result\n",
    "\n",
    "\n",
    "def remap_zip(input_zip):\n",
    "    if input_zip is None:\n",
    "      return None\n",
    "    newzip = shuffled_zipmap.get(input_zip)\n",
    "    return newzip\n",
    "  \n",
    "  \n",
    "def remap_city(input_city):\n",
    "  if input_city is None:\n",
    "    return None\n",
    "  city = cities_by_zip.get(input_city.lower())\n",
    "  return city\n",
    "\n",
    "\n",
    "def remap_business_orgs(input_biz_org):\n",
    "  if input_biz_org is None:\n",
    "    return None\n",
    "  business_org_value = business_org_map.get(input_biz_org)\n",
    "  return business_org_value"
   ]
  },
  {
   "cell_type": "markdown",
   "metadata": {
    "application/vnd.databricks.v1+cell": {
     "cellMetadata": {
      "byteLimit": 2048000,
      "rowLimit": 10000
     },
     "inputWidgets": {},
     "nuid": "5cc9bb93-bc2b-4310-a61b-c125d2622971",
     "showTitle": false,
     "title": ""
    }
   },
   "source": [
    "# City/Zip Randomization\n",
    "\n",
    "These are randomized each run to keep PII/PHI from being an issue with zip codes or cities of individual members."
   ]
  },
  {
   "cell_type": "code",
   "execution_count": 0,
   "metadata": {
    "application/vnd.databricks.v1+cell": {
     "cellMetadata": {
      "byteLimit": 2048000,
      "rowLimit": 10000
     },
     "inputWidgets": {},
     "nuid": "187792fb-a3be-4f53-982d-51d3e7a66b4c",
     "showTitle": false,
     "title": ""
    }
   },
   "outputs": [],
   "source": [
    "shuffled_zipmap = _get_zip_shuffle()\n",
    "cities_by_zip = _get_cities_by_zip()"
   ]
  },
  {
   "cell_type": "markdown",
   "metadata": {
    "application/vnd.databricks.v1+cell": {
     "cellMetadata": {
      "byteLimit": 2048000,
      "rowLimit": 10000
     },
     "inputWidgets": {},
     "nuid": "cf882600-22a3-47ce-abd6-8f3391873842",
     "showTitle": false,
     "title": ""
    }
   },
   "source": [
    "# Conversions\n",
    "\n",
    "If you need to add more conversions this is a convenience markdown organization so you can drop the list of translations in and then add them in the filename <-> converters section.  This is a bit clunky, but until we agree on a more adequate format, this \"works\" and is easy to iterate on without much knowlege of python or spark/etc."
   ]
  },
  {
   "cell_type": "markdown",
   "metadata": {
    "application/vnd.databricks.v1+cell": {
     "cellMetadata": {
      "byteLimit": 2048000,
      "rowLimit": 10000
     },
     "inputWidgets": {},
     "nuid": "1b02d953-aa6a-4adb-9d8a-2849e95e9a7a",
     "showTitle": false,
     "title": ""
    }
   },
   "source": [
    "## med conversions"
   ]
  },
  {
   "cell_type": "code",
   "execution_count": 0,
   "metadata": {
    "application/vnd.databricks.v1+cell": {
     "cellMetadata": {
      "byteLimit": 2048000,
      "rowLimit": 10000
     },
     "inputWidgets": {},
     "nuid": "52f40979-b2da-495e-a4b6-a91e87805d34",
     "showTitle": false,
     "title": ""
    }
   },
   "outputs": [],
   "source": [
    "med_translations = [\n",
    "  ('employer_name', 'string', 'remap_employer'),\n",
    "  ('paid_date', 'date', 'date_shift'),\n",
    "  ('admit_date', 'date', 'date_shift'),\n",
    "  ('discharge_date', 'date', 'date_shift'),\n",
    "  ('from_date', 'date', 'date_shift'),\n",
    "  ('member_birth_date', 'date', 'date_shift'),\n",
    "  ('pass_through_03', 'date', 'pass_null'),\n",
    "  ('to_date', 'date', 'date_shift'),\n",
    "  ('allowed_amount', 'decimal_10_2', 'financial_shift'),\n",
    "  ('billed_amount', 'decimal_10_2', 'financial_shift'),\n",
    "  ('cob_amount', 'decimal_10_2', 'financial_shift'),\n",
    "  ('coinsurance_amount', 'decimal_10_2', 'financial_shift'),\n",
    "  ('copay_amount', 'decimal_10_2', 'financial_shift'),\n",
    "  ('deductible_amount', 'decimal_10_2', 'financial_shift'),\n",
    "  ('discount_amount', 'decimal_10_2', 'financial_shift'),\n",
    "  ('eligible_amount', 'decimal_10_2', 'financial_shift'),\n",
    "  ('hra_amount', 'decimal_10_2', 'financial_shift'),\n",
    "  ('member_paid_amount', 'decimal_10_2', 'financial_shift'),\n",
    "  ('net_adjustment', 'decimal_10_2', 'financial_shift'),\n",
    "  ('not_covered_amount', 'decimal_10_2', 'financial_shift'),\n",
    "  ('paid_amount', 'decimal_10_2', 'financial_shift'),\n",
    "  ('units', 'float', 'passthrough'),\n",
    "  ('admit_type', 'int', 'passthrough'),\n",
    "  ('capitated_encounter_indicator', 'int', 'passthrough'),\n",
    "  ('claim_line_index', 'int', 'passthrough'),\n",
    "  ('covered_days', 'int', 'passthrough'),\n",
    "  ('drg', 'int', 'passthrough'),\n",
    "  ('mdc', 'int', 'passthrough'),\n",
    "  ('member_gender', 'int', 'passthrough'),\n",
    "  ('member_relationship', 'int', 'passthrough'),\n",
    "  ('member_status', 'int', 'passthrough'),\n",
    "  ('network_status_indicator', 'int', 'passthrough'),\n",
    "  ('pass_through_02', 'int', 'pass_null'),\n",
    "  ('premium_provider_indicator', 'int', 'passthrough'),\n",
    "  ('adjustment_type', 'string', 'passthrough'),\n",
    "  ('bill_type', 'string', 'passthrough'),\n",
    "  ('billing_provider_address_line_1', 'string', 'pass_null'),\n",
    "  ('billing_provider_address_line_2', 'string', 'pass_null'),\n",
    "  ('billing_provider_name', 'string', 'pass_null'),\n",
    "  ('billing_provider_npi', 'string', 'passthrough'),\n",
    "  ('billing_provider_phone', 'string', 'pass_null'),\n",
    "  ('billing_provider_specialty_code', 'string', 'pass_null'),\n",
    "  ('billing_provider_state', 'string', 'passthrough'),\n",
    "  ('billing_provider_tax_id', 'string', 'pass_null'),\n",
    "  ('billing_provider_type', 'string', 'pass_null'),\n",
    "  ('claim_line_status', 'string', 'passthrough'),\n",
    "  ('claim_type', 'string', 'passthrough'),\n",
    "  ('data_source', 'string', 'passthrough'),\n",
    "  ('discharge_status', 'string', 'passthrough'),\n",
    "  ('drg_type', 'string', 'passthrough'),\n",
    "  ('icd_dx_poa_1', 'string', 'passthrough'),\n",
    "  ('icd_dx_poa_2', 'string', 'passthrough'),\n",
    "  ('icd_dx_poa_3', 'string', 'passthrough'),\n",
    "  ('icd_dx_poa_4', 'string', 'passthrough'),\n",
    "  ('icd_dx_poa_5', 'string', 'passthrough'),\n",
    "  ('icd_dx_poa_6', 'string', 'passthrough'),\n",
    "  ('icd10_dx_1', 'string', 'passthrough'),\n",
    "  ('icd10_dx_2', 'string', 'passthrough'),\n",
    "  ('icd10_dx_3', 'string', 'passthrough'),\n",
    "  ('icd10_dx_4', 'string', 'passthrough'),\n",
    "  ('icd10_dx_5', 'string', 'passthrough'),\n",
    "  ('icd10_dx_6', 'string', 'passthrough'),\n",
    "  ('icd10_proc_1', 'string', 'passthrough'),\n",
    "  ('icd10_proc_2', 'string', 'passthrough'),\n",
    "  ('icd10_proc_3', 'string', 'passthrough'),\n",
    "  ('icd10_proc_4', 'string', 'passthrough'),\n",
    "  ('icd10_proc_5', 'string', 'passthrough'),\n",
    "  ('icd10_proc_6', 'string', 'passthrough'),\n",
    "  ('icd9_dx_1', 'string', 'passthrough'),\n",
    "  ('icd9_dx_2', 'string', 'passthrough'),\n",
    "  ('icd9_dx_3', 'string', 'passthrough'),\n",
    "  ('icd9_dx_4', 'string', 'passthrough'),\n",
    "  ('icd9_dx_5', 'string', 'passthrough'),\n",
    "  ('icd9_dx_6', 'string', 'passthrough'),\n",
    "  ('icd9_proc_1', 'string', 'passthrough'),\n",
    "  ('icd9_proc_2', 'string', 'passthrough'),\n",
    "  ('icd9_proc_3', 'string', 'passthrough'),\n",
    "  ('icd9_proc_4', 'string', 'passthrough'),\n",
    "  ('icd9_proc_5', 'string', 'passthrough'),\n",
    "  ('icd9_proc_6', 'string', 'passthrough'),\n",
    "  ('member_first_name', 'string', 'string_scramble'),\n",
    "  ('member_home_state', 'string', 'passthrough'),\n",
    "  ('member_last_name', 'string', 'string_scramble'),\n",
    "  ('member_middle_name', 'string', 'pass_null'),\n",
    "  ('member_ssn', 'string', 'ssn_scramble'),\n",
    "  ('nucc_taxonomy_specialty', 'string', 'passthrough'),\n",
    "  ('pass_through_01', 'string', 'pass_null'),\n",
    "  ('place_of_service_code', 'string', 'passthrough'),\n",
    "  ('procedure_code', 'string', 'passthrough'),\n",
    "  ('procedure_code_modifier', 'string', 'passthrough'),\n",
    "  ('revenue_code', 'string', 'passthrough'),\n",
    "  ('servicing_provider_address_line_1', 'string', 'pass_null'),\n",
    "  ('servicing_provider_address_line_2', 'string', 'pass_null'),\n",
    "  ('servicing_provider_name', 'string', 'pass_null'),\n",
    "  ('servicing_provider_npi', 'string', 'passthrough'),\n",
    "  ('servicing_provider_specialty_code', 'string', 'passthrough'),\n",
    "  ('servicing_provider_state', 'string', 'passthrough'),\n",
    "  ('servicing_provider_tax_id', 'string', 'pass_null'),\n",
    "  ('servicing_provider_type', 'string', 'pass_null'),\n",
    "  ('source_claim_id', 'string', 'claim_id_scramble'),\n",
    "  ('source_member_id', 'string', 'pass_null'),\n",
    "  ('subscriber_employee_id', 'string', 'pass_null'),\n",
    "  ('subscriber_ssn', 'string', 'ssn_scramble'),\n",
    "  ('type_of_service_code', 'string', 'passthrough'),\n",
    "  ('unique_line_id', 'string', 'passthrough'),\n",
    "  ('billing_provider_city', 'string', 'remap_city'),\n",
    "  ('billing_provider_zip_code', 'string', 'remap_zip'),\n",
    "  ('member_home_city', 'string', 'remap_city'),\n",
    "  ('member_home_zip_code', 'string', 'remap_zip'),\n",
    "  ('servicing_provider_city', 'string', 'remap_city'),\n",
    "  ('servicing_provider_zip_code', 'string', 'remap_zip'),\n",
    "]\n",
    "\n",
    "med_zip_city = [\n",
    "  ('servicing_provider_zip_code', 'servicing_provider_city'),\n",
    "  ('member_home_zip_code', 'member_home_city'),\n",
    "  ('billing_provider_zip_code', 'billing_provider_city'),\n",
    "]"
   ]
  },
  {
   "cell_type": "markdown",
   "metadata": {
    "application/vnd.databricks.v1+cell": {
     "cellMetadata": {
      "byteLimit": 2048000,
      "rowLimit": 10000
     },
     "inputWidgets": {},
     "nuid": "e48c6cef-271e-483a-87d4-b08ca088f62f",
     "showTitle": false,
     "title": ""
    }
   },
   "source": [
    "## rx conversions"
   ]
  },
  {
   "cell_type": "code",
   "execution_count": 0,
   "metadata": {
    "application/vnd.databricks.v1+cell": {
     "cellMetadata": {
      "byteLimit": 2048000,
      "rowLimit": 10000
     },
     "inputWidgets": {},
     "nuid": "3a412fc0-99b1-4d5f-b962-2b72908f86f5",
     "showTitle": false,
     "title": ""
    }
   },
   "outputs": [],
   "source": [
    "rx_translations = [\n",
    "  (\"paid_date\", \"date\", \"date_shift\"),\n",
    "  (\"employer_name\", \"string\", \"remap_employer\"),\n",
    "  (\"fill_date\", \"date\", \"date_shift\"),\n",
    "  (\"member_birth_date\", \"date\", \"date_shift\"),\n",
    "  (\"allowed_amount\", \"decimal_10_2\", \"financial_shift\"),\n",
    "  (\"billed_amount\", \"decimal_10_2\", \"financial_shift\"),\n",
    "  (\"cob_amount\", \"decimal_10_2\", \"financial_shift\"),\n",
    "  (\"coinsurance_amount\", \"decimal_10_2\", \"financial_shift\"),\n",
    "  (\"copay_amount\", \"decimal_10_2\", \"financial_shift\"),\n",
    "  (\"deductible_amount\", \"decimal_10_2\", \"financial_shift\"),\n",
    "  (\"dispensing_fee\", \"decimal_10_2\", \"financial_shift\"),\n",
    "  (\"eligible_amount\", \"decimal_10_2\", \"financial_shift\"),\n",
    "  (\"ingredient_cost\", \"decimal_10_2\", \"financial_shift\"),\n",
    "  (\"ingredient_cost_per_unit\", \"decimal_10_2\", \"financial_shift\"),\n",
    "  (\"member_paid_amount\", \"decimal_10_2\", \"financial_shift\"),\n",
    "  (\"paid_amount\", \"decimal_10_2\", \"financial_shift\"),\n",
    "  (\"sales_tax_amount\", \"decimal_10_2\", \"financial_shift\"),\n",
    "  (\"quantity_dispensed\", \"float\", \"passthrough\"),\n",
    "  (\"daw_code\", \"int\", \"passthrough\"),\n",
    "  (\"days_supply\", \"int\", \"passthrough\"),\n",
    "  (\"mail_order_indicator\", \"int\", \"passthrough\"),\n",
    "  (\"maintenance_drug_indicator\", \"int\", \"passthrough\"),\n",
    "  (\"member_gender\", \"int\", \"passthrough\"),\n",
    "  (\"member_relationship\", \"int\", \"passthrough\"),\n",
    "  (\"member_status\", \"int\", \"passthrough\"),\n",
    "  (\"new_prescription\", \"int\", \"passthrough\"),\n",
    "  (\"pharmacy_dispenser_type\", \"int\", \"passthrough\"),\n",
    "  (\"rx_over_the_counter_indicator\", \"int\", \"passthrough\"),\n",
    "  (\"rx_tier\", \"int\", \"passthrough\"),\n",
    "  (\"source_generic_indicator\", \"int\", \"passthrough\"),\n",
    "  (\"specialty_rx_indicator\", \"int\", \"passthrough\"),\n",
    "  (\"claim_line_status\", \"string\", \"passthrough\"),\n",
    "  (\"data_source\", \"string\", \"passthrough\"),\n",
    "  (\"denied_reason\", \"string\", \"passthrough\"),\n",
    "  (\"dosage_form_code\", \"string\", \"passthrough\"),\n",
    "  (\"drug_type\", \"string\", \"passthrough\"),\n",
    "  (\"formulary_status\", \"string\", \"passthrough\"),\n",
    "  (\"generic_brand_from_pbm\", \"string\", \"passthrough\"),\n",
    "  (\"generic_brand_in_house\", \"string\", \"passthrough\"),\n",
    "  (\"member_first_name\", \"string\", \"string_scramble\"),\n",
    "  (\"member_home_state\", \"string\", \"passthrough\"),\n",
    "  (\"member_last_name\", \"string\", \"string_scramble\"),\n",
    "  (\"member_middle_name\", \"string\", \"pass_null\"),\n",
    "  (\"member_ssn\", \"string\", \"ssn_scramble\"),\n",
    "  (\"ndc\", \"string\", \"passthrough\"),\n",
    "  (\"pharmacy_address_line_1\", \"string\", \"pass_null\"),\n",
    "  (\"pharmacy_address_line_2\", \"string\", \"pass_null\"),\n",
    "  (\"pharmacy_description\", \"string\", \"pass_null\"),\n",
    "  (\"pharmacy_group\", \"string\", \"pass_null\"),\n",
    "  (\"pharmacy_name\", \"string\", \"pass_null\"),\n",
    "  (\"pharmacy_npi\", \"string\", \"passthrough\"),\n",
    "  (\"pharmacy_phone_number\", \"string\", \"pass_null\"),\n",
    "  (\"pharmacy_state\", \"string\", \"passthrough\"),\n",
    "  (\"prescriber_address_line_1\", \"string\", \"pass_null\"),\n",
    "  (\"prescriber_address_line_2\", \"string\", \"pass_null\"),\n",
    "  (\"prescriber_first_name\", \"string\", \"pass_null\"),\n",
    "  (\"prescriber_id\", \"string\", \"pass_null\"),\n",
    "  (\"prescriber_last_name\", \"string\", \"pass_null\"),\n",
    "  (\"prescriber_phone_number\", \"string\", \"pass_null\"),\n",
    "  (\"prescriber_provider_name\", \"string\", \"pass_null\"),\n",
    "  (\"prescriber_specialty_code\", \"string\", \"pass_null\"),\n",
    "  (\"prescriber_state\", \"string\", \"passthrough\"),\n",
    "  (\"prescriber_tax_id\", \"string\", \"pass_null\"),\n",
    "  (\"source_claim_id\", \"string\", \"claim_id_scramble\"),\n",
    "  (\"source_member_id\", \"string\", \"pass_null\"),\n",
    "  (\"subscriber_ssn\", \"string\", \"ssn_scramble\"),\n",
    "  (\"unique_line_id\", \"string\", \"pass_null\"),\n",
    "  (\"unit_of_measure\", \"string\", \"passthrough\"),\n",
    "  (\"upc_code\", \"string\", \"passthrough\"),\n",
    "  (\"member_home_zip_code\", \"string\", \"remap_zip\"),\n",
    "  (\"member_home_city\", \"string\", \"remap_city\"),\n",
    "  (\"pharmacy_zip_code\", \"string\", \"remap_zip\"),\n",
    "  (\"pharmacy_city\", \"string\", \"remap_city\"),\n",
    "  (\"prescriber_zip_code\", \"string\", \"remap_zip\"),\n",
    "  (\"prescriber_city\", \"string\", \"remap_city\"),\n",
    "]\n",
    "\n",
    "\n",
    "rx_zip_city = [\n",
    "  ('member_home_zip_code', 'member_home_city'),\n",
    "  ('pharmacy_zip_code', 'pharmacy_city'),\n",
    "  ('prescriber_zip_code', 'prescriber_city'),\n",
    "]"
   ]
  },
  {
   "cell_type": "markdown",
   "metadata": {
    "application/vnd.databricks.v1+cell": {
     "cellMetadata": {
      "byteLimit": 2048000,
      "rowLimit": 10000
     },
     "inputWidgets": {},
     "nuid": "71644862-7323-4c4d-8719-d7e2e5eca297",
     "showTitle": false,
     "title": ""
    }
   },
   "source": [
    "## eligibility conversions"
   ]
  },
  {
   "cell_type": "code",
   "execution_count": 0,
   "metadata": {
    "application/vnd.databricks.v1+cell": {
     "cellMetadata": {
      "byteLimit": 2048000,
      "rowLimit": 10000
     },
     "inputWidgets": {},
     "nuid": "1bc75b3d-ae1e-417a-a443-002e108a89c6",
     "showTitle": false,
     "title": ""
    }
   },
   "outputs": [],
   "source": [
    "# These conversions are manually assigned in an excel spreadsheet by Chris or someone else - for POC we've just got this hard coded to show that it will work if we have the relationships defined.\n",
    "eligibility_translations = [\n",
    "  (\"month_key\", \"date\", \"date_shift\"),\n",
    "  (\"employer_name\", \"string\", \"remap_employer\"),\n",
    "  (\"artemis_member_id\", \"string\", \"member_id_scramble\"),\n",
    "  (\"dcra_end_date\", \"date\", \"date_shift\"),\n",
    "  (\"dcra_start_date\", \"date\", \"date_shift\"),\n",
    "  (\"dental_end_date\", \"date\", \"date_shift\"),\n",
    "  (\"dental_start_date\", \"date\", \"date_shift\"),\n",
    "  (\"fsa_end_date\", \"date\", \"date_shift\"),\n",
    "  (\"fsa_start_date\", \"date\", \"date_shift\"),\n",
    "  (\"hra_end_date\", \"date\", \"date_shift\"),\n",
    "  (\"hra_start_date\", \"date\", \"date_shift\"),\n",
    "  (\"hsa_end_date\", \"date\", \"date_shift\"),\n",
    "  (\"hsa_start_date\", \"date\", \"date_shift\"),\n",
    "  (\"long_disab_end_date\", \"date\", \"date_shift\"),\n",
    "  (\"long_disab_start_date\", \"date\", \"date_shift\"),\n",
    "  (\"medical_end_date\", \"date\", \"date_shift\"),\n",
    "  (\"medical_start_date\", \"date\", \"date_shift\"),\n",
    "  (\"member_birth_date\", \"date\", \"date_shift\"),\n",
    "  (\"pass_through_03\", \"date\", \"date_shift\"),\n",
    "  (\"record_import_date\", \"date\", \"date_shift\"),\n",
    "  (\"rx_end_date\", \"date\", \"date_shift\"),\n",
    "  (\"rx_start_date\", \"date\", \"date_shift\"),\n",
    "  (\"short_disab_end_date\", \"date\", \"date_shift\"),\n",
    "  (\"short_disab_start_date\", \"date\", \"date_shift\"),\n",
    "  (\"subscriber_birth_date\", \"date\", \"date_shift\"),\n",
    "  (\"vision_end_date\", \"date\", \"date_shift\"),\n",
    "  (\"vision_start_date\", \"date\", \"date_shift\"),\n",
    "  (\"dcra_admin_fees\", \"decimal_base_ten_round_2\", \"financial_shift\"),\n",
    "  (\"dcra_payroll_contribution_employer\", \"decimal_base_ten_round_2\", \"financial_shift\"),\n",
    "  (\"dcra_payroll_contribution_member\", \"decimal_base_ten_round_2\", \"financial_shift\"),\n",
    "  (\"dental_admin_fees\", \"decimal_base_ten_round_2\", \"financial_shift\"),\n",
    "  (\"dental_payroll_contribution_employer\", \"decimal_base_ten_round_2\", \"financial_shift\"),\n",
    "  (\"dental_payroll_contribution_member\", \"decimal_base_ten_round_2\", \"financial_shift\"),\n",
    "  (\"fsa_admin_fees\", \"decimal_base_ten_round_2\", \"financial_shift\"),\n",
    "  (\"fsa_payroll_contribution_employer\", \"decimal_base_ten_round_2\", \"financial_shift\"),\n",
    "  (\"fsa_payroll_contribution_member\", \"decimal_base_ten_round_2\", \"financial_shift\"),\n",
    "  (\"hra_admin_fees\", \"decimal_base_ten_round_2\", \"financial_shift\"),\n",
    "  (\"hra_payroll_contribution_employer\", \"decimal_base_ten_round_2\", \"financial_shift\"),\n",
    "  (\"hra_payroll_contribution_member\", \"decimal_base_ten_round_2\", \"financial_shift\"),\n",
    "  (\"hsa_admin_fees\", \"decimal_base_ten_round_2\", \"financial_shift\"),\n",
    "  (\"hsa_election_amount\", \"decimal_base_ten_round_2\", \"financial_shift\"),\n",
    "  (\"hsa_payroll_contribution_employer\", \"decimal_base_ten_round_2\", \"financial_shift\"),\n",
    "  (\"hsa_payroll_contribution_member\", \"decimal_base_ten_round_2\", \"financial_shift\"),\n",
    "  (\"life_abb_amount\", \"decimal_base_ten_round_2\", \"financial_shift\"),\n",
    "  (\"long_disab_abb_amount\", \"decimal_base_ten_round_2\", \"financial_shift\"),\n",
    "  (\"long_disab_admin_fees\", \"decimal_base_ten_round_2\", \"financial_shift\"),\n",
    "  (\"long_disab_payroll_contribution_employer\", \"decimal_base_ten_round_2\", \"financial_shift\"),\n",
    "  (\"long_disab_payroll_contribution_member\", \"decimal_base_ten_round_2\", \"financial_shift\"),\n",
    "  (\"medical_admin_fees\", \"decimal_base_ten_round_2\", \"financial_shift\"),\n",
    "  (\"medical_member_coinsurance_max\", \"decimal_base_ten_round_2\", \"financial_shift\"),\n",
    "  (\"medical_member_deductible\", \"decimal_base_ten_round_2\", \"financial_shift\"),\n",
    "  (\"medical_member_oop_max\", \"decimal_base_ten_round_2\", \"financial_shift\"),\n",
    "  (\"medical_payroll_contribution_employer\", \"decimal_base_ten_round_2\", \"financial_shift\"),\n",
    "  (\"medical_payroll_contribution_member\", \"decimal_base_ten_round_2\", \"financial_shift\"),\n",
    "  (\"medical_plan_coinsurance\", \"decimal_base_ten_round_2\", \"financial_shift\"),\n",
    "  (\"medical_plan_copay_advanced_imaging\", \"decimal_base_ten_round_2\", \"financial_shift\"),\n",
    "  (\"medical_plan_copay_behavioral_health_visit\", \"decimal_base_ten_round_2\", \"financial_shift\"),\n",
    "  (\"medical_plan_copay_chiropractor_visit\", \"decimal_base_ten_round_2\", \"financial_shift\"),\n",
    "  (\"medical_plan_copay_clinic_visit\", \"decimal_base_ten_round_2\", \"financial_shift\"),\n",
    "  (\"medical_plan_copay_emergency_room\", \"decimal_base_ten_round_2\", \"financial_shift\"),\n",
    "  (\"medical_plan_copay_individual_deductible\", \"decimal_base_ten_round_2\", \"financial_shift\"),\n",
    "  (\"medical_plan_copay_inpatient_hospital\", \"decimal_base_ten_round_2\", \"financial_shift\"),\n",
    "  (\"medical_plan_copay_outpatient_surgery\", \"decimal_base_ten_round_2\", \"financial_shift\"),\n",
    "  (\"medical_plan_copay_primary_care_visit\", \"decimal_base_ten_round_2\", \"financial_shift\"),\n",
    "  (\"medical_plan_copay_rehabilitation_therapy\", \"decimal_base_ten_round_2\", \"financial_shift\"),\n",
    "  (\"medical_plan_copay_routine_exam\", \"decimal_base_ten_round_2\", \"financial_shift\"),\n",
    "  (\"medical_plan_copay_specialist_office_visit\", \"decimal_base_ten_round_2\", \"financial_shift\"),\n",
    "  (\"medical_plan_copay_urgent_care_facility\", \"decimal_base_ten_round_2\", \"financial_shift\"),\n",
    "  (\"medical_plan_family_deductible\", \"decimal_base_ten_round_2\", \"financial_shift\"),\n",
    "  (\"medical_plan_family_oop_max\", \"decimal_base_ten_round_2\", \"financial_shift\"),\n",
    "  (\"medical_plan_individual_oop_max\", \"decimal_base_ten_round_2\", \"financial_shift\"),\n",
    "  (\"rx_admin_fees\", \"decimal_base_ten_round_2\", \"financial_shift\"),\n",
    "  (\"rx_payroll_contribution_employer\", \"decimal_base_ten_round_2\", \"financial_shift\"),\n",
    "  (\"rx_payroll_contribution_member\", \"decimal_base_ten_round_2\", \"financial_shift\"),\n",
    "  (\"short_disab_admin_fees\", \"decimal_base_ten_round_2\", \"financial_shift\"),\n",
    "  (\"short_disab_payroll_contribution_employer\", \"decimal_base_ten_round_2\", \"financial_shift\"),\n",
    "  (\"short_disab_payroll_contribution_member\", \"decimal_base_ten_round_2\", \"financial_shift\"),\n",
    "  (\"vision_admin_fees\", \"decimal_base_ten_round_2\", \"financial_shift\"),\n",
    "  (\"vision_payroll_contribution_employer\", \"decimal_base_ten_round_2\", \"financial_shift\"),\n",
    "  (\"vision_payroll_contribution_member\", \"decimal_base_ten_round_2\", \"financial_shift\"),\n",
    "  (\"dcra_coverage_tier_code\", \"int\", \"passthrough\"),\n",
    "  (\"dcra_enrollment_status\", \"int\", \"passthrough\"),\n",
    "  (\"dental_coverage_tier_code\", \"int\", \"passthrough\"),\n",
    "  (\"dental_enrollment_status\", \"int\", \"passthrough\"),\n",
    "  (\"eligibility_marked_smoking\", \"int\", \"passthrough\"),\n",
    "  (\"fsa_coverage_tier_code\", \"int\", \"passthrough\"),\n",
    "  (\"fsa_enrollment_status\", \"int\", \"passthrough\"),\n",
    "  (\"hra_coverage_tier_code\", \"int\", \"passthrough\"),\n",
    "  (\"hra_enrollment_status\", \"int\", \"passthrough\"),\n",
    "  (\"hsa_coverage_tier_code\", \"int\", \"passthrough\"),\n",
    "  (\"hsa_enrollment_status\", \"int\", \"passthrough\"),\n",
    "  (\"long_disab_coverage_tier_code\", \"int\", \"passthrough\"),\n",
    "  (\"long_disab_enrollment_status\", \"int\", \"passthrough\"),\n",
    "  (\"medical_coverage_tier_code\", \"int\", \"passthrough\"),\n",
    "  (\"medical_enrollment_status\", \"int\", \"passthrough\"),\n",
    "  (\"medical_plan_counts_for_eligibility\", \"int\", \"passthrough\"),\n",
    "  (\"medical_plan_metal_level\", \"int\", \"passthrough\"),\n",
    "  (\"medical_plan_network_status_indicator\", \"int\", \"passthrough\"),\n",
    "  (\"member_gender\", \"int\", \"passthrough\"),\n",
    "  (\"member_relationship\", \"int\", \"passthrough\"),\n",
    "  (\"member_status\", \"int\", \"passthrough\"),\n",
    "  (\"pass_through_02\", \"int\", \"passthrough\"),\n",
    "  (\"rx_coverage_tier_code\", \"int\", \"passthrough\"),\n",
    "  (\"rx_enrollment_status\", \"int\", \"passthrough\"),\n",
    "  (\"short_disab_coverage_tier_code\", \"int\", \"passthrough\"),\n",
    "  (\"short_disab_enrollment_status\", \"int\", \"passthrough\"),\n",
    "  (\"subscriber_gender\", \"int\", \"passthrough\"),\n",
    "  (\"tobacco_surcharge\", \"int\", \"passthrough\"),\n",
    "  (\"tobacco_surcharge_spouse\", \"int\", \"passthrough\"),\n",
    "  (\"vision_coverage_tier_code\", \"int\", \"passthrough\"),\n",
    "  (\"vision_enrollment_status\", \"int\", \"passthrough\"),\n",
    "  (\"401k_plan_name\", \"string\", \"remap_plan\"),\n",
    "  (\"alternate_id\", \"string\", \"pass_null\"),\n",
    "  (\"benefit_deduction_group\", \"string\", \"passthrough\"),\n",
    "  (\"data_source\", \"string\", \"passthrough\"),\n",
    "  (\"medical_carrier_name\", \"string\", \"passthrough\"),\n",
    "  (\"medical_plan_category_name\", \"string\", \"passthrough\"),\n",
    "  (\"medical_plan_description\", \"string\", \"passthrough\"),\n",
    "  (\"medical_plan_name\", \"string\", \"passthrough\"),\n",
    "  (\"medical_plan_type\", \"string\", \"passthrough\"),\n",
    "  (\"member_email\", \"string\", \"pass_null\"),\n",
    "  (\"member_first_name\", \"string\", \"string_scramble\"),\n",
    "  (\"member_home_address_line_1\", \"string\", \"pass_null\"),\n",
    "  (\"member_home_address_line_2\", \"string\", \"pass_null\"),\n",
    "  (\"member_home_phone\", \"string\", \"pass_null\"),\n",
    "  (\"member_home_state\", \"string\", \"passthrough\"),\n",
    "  (\"member_last_name\", \"string\", \"string_scramble\"),\n",
    "  (\"member_middle_name\", \"string\", \"pass_null\"),\n",
    "  (\"member_ssn\", \"string\", \"ssn_scramble\"),\n",
    "  (\"pass_through_01\", \"string\", \"pass_null\"),\n",
    "  (\"primary_care_provider_first_name\", \"string\", \"pass_null\"),\n",
    "  (\"primary_care_provider_last_name\", \"string\", \"pass_null\"),\n",
    "  (\"primary_care_provider_npi\", \"string\", \"pass_null\"),\n",
    "  (\"primary_care_provider_source_system_id\", \"string\", \"pass_null\"),\n",
    "  (\"primary_care_provider_tin\", \"string\", \"pass_null\"),\n",
    "  (\"rx_carrier_name\", \"string\", \"passthrough\"),\n",
    "  (\"rx_plan_name\", \"string\", \"remap_plan\"),\n",
    "  (\"source_401k_plan_id\", \"string\", \"pass_null\"),\n",
    "  (\"source_carrier\", \"string\", \"passthrough\"),\n",
    "  (\"source_dcra_plan_id\", \"string\", \"pass_null\"),\n",
    "  (\"source_dental_plan_id\", \"string\", \"pass_null\"),\n",
    "  (\"source_fsa_plan_id\", \"string\", \"pass_null\"),\n",
    "  (\"source_hra_plan_id\", \"string\", \"pass_null\"),\n",
    "  (\"source_hsa_plan_id\", \"string\", \"pass_null\"),\n",
    "  (\"source_long_disab_plan_id\", \"string\", \"pass_null\"),\n",
    "  (\"source_medical_plan_id\", \"string\", \"pass_null\"),\n",
    "  (\"source_member_id\", \"string\", \"pass_null\"),\n",
    "  (\"source_rx_plan_id\", \"string\", \"pass_null\"),\n",
    "  (\"source_short_disab_plan_id\", \"string\", \"pass_null\"),\n",
    "  (\"source_subscriber_id\", \"string\", \"pass_null\"),\n",
    "  (\"source_vision_plan_id\", \"string\", \"pass_null\"),\n",
    "  (\"subscriber_address_line_1\", \"string\", \"pass_null\"),\n",
    "  (\"subscriber_address_line_2\", \"string\", \"pass_null\"),\n",
    "  (\"subscriber_email\", \"string\", \"pass_null\"),\n",
    "  (\"subscriber_employee_id\", \"string\", \"pass_null\"),\n",
    "  (\"subscriber_first_name\", \"string\", \"string_scramble\"),\n",
    "  (\"subscriber_id\", \"string\", \"pass_null\"),\n",
    "  (\"subscriber_last_name\", \"string\", \"string_scramble\"),\n",
    "  (\"subscriber_middle_name\", \"string\", \"pass_null\"),\n",
    "  (\"subscriber_phone\", \"string\", \"pass_null\"),\n",
    "  (\"subscriber_ssn\", \"string\", \"ssn_scramble\"),\n",
    "  (\"subscriber_state\", \"string\", \"passthrough\"),\n",
    "  (\"unique_line_id\", \"string\", \"pass_null\"),\n",
    "  (\"member_home_zip_code\", \"string\", \"remap_zip\"),\n",
    "  (\"member_home_city\", \"string\", \"remap_city\"),\n",
    "  (\"subscriber_zip_code\", \"string\", \"remap_zip\"),\n",
    "  (\"subscriber_city\", \"string\", \"remap_city\"),\n",
    "]\n",
    "\n",
    "eligibility_zip_city = [\n",
    "  ('member_home_zip_code', 'member_home_city'),\n",
    "  ('subscriber_zip_code', 'subscriber_city'),\n",
    "]"
   ]
  },
  {
   "cell_type": "markdown",
   "metadata": {
    "application/vnd.databricks.v1+cell": {
     "cellMetadata": {
      "byteLimit": 2048000,
      "rowLimit": 10000
     },
     "inputWidgets": {},
     "nuid": "2d590ed7-821a-40ba-a284-927019b16103",
     "showTitle": false,
     "title": ""
    }
   },
   "source": [
    "## hris conversions"
   ]
  },
  {
   "cell_type": "code",
   "execution_count": 0,
   "metadata": {
    "application/vnd.databricks.v1+cell": {
     "cellMetadata": {
      "byteLimit": 2048000,
      "rowLimit": 10000
     },
     "inputWidgets": {},
     "nuid": "2464d50c-40f7-43cf-bb7c-0ac8cda26f53",
     "showTitle": false,
     "title": ""
    }
   },
   "outputs": [],
   "source": [
    "hris_translations = [\n",
    "  (\"month_key\", \"date\", \"date_shift\"),\n",
    "  (\"employer_name\", \"string\", \"remap_employer\"),\n",
    "  (\"employee_hire_date\", \"date\", \"date_shift\"),\n",
    "  (\"employee_last_hire_date\", \"date\", \"date_shift\"),\n",
    "  (\"employee_seniority_date\", \"date\", \"date_shift\"),\n",
    "  (\"employee_termination_date\", \"date\", \"date_shift\"),\n",
    "  (\"member_birth_date\", \"date\", \"date_shift\"),\n",
    "  (\"record_import_date\", \"date\", \"date_shift\"),\n",
    "  (\"subscriber_birth_date\", \"date\", \"date_shift\"),\n",
    "  (\"employee_salary_annual\", \"decimal_10_2\", \"financial_shift\"),\n",
    "  (\"employee_wage_hourly\", \"decimal_10_2\", \"financial_shift\"),\n",
    "  (\"medical_budget_rate\", \"decimal_10_2\", \"financial_shift\"),\n",
    "  (\"employee_flsa_status\", \"int\", \"passthrough\"),\n",
    "  (\"employee_is_union\", \"int\", \"passthrough\"),\n",
    "  (\"employee_type\", \"int\", \"passthrough\"),\n",
    "  (\"employee_wage_type\", \"int\", \"passthrough\"),\n",
    "  (\"employee_years_of_service\", \"int\", \"passthrough\"),\n",
    "  (\"marital_status\", \"int\", \"passthrough\"),\n",
    "  (\"member_ethnicity\", \"int\", \"passthrough\"),\n",
    "  (\"member_gender\", \"int\", \"passthrough\"),\n",
    "  (\"member_relationship\", \"int\", \"passthrough\"),\n",
    "  (\"member_status\", \"int\", \"passthrough\"),\n",
    "  (\"subscriber_gender\", \"int\", \"passthrough\"),\n",
    "  (\"alternate_id\", \"string\", \"pass_null\"),\n",
    "  (\"building_section\", \"string\", \"passthrough\"),\n",
    "  (\"data_source\", \"string\", \"passthrough\"),\n",
    "  (\"employee_compensation_grade\", \"string\", \"passthrough\"),\n",
    "  (\"employee_cost_center\", \"string\", \"passthrough\"),\n",
    "  (\"employee_department\", \"string\", \"passthrough\"),\n",
    "  (\"employee_department_id\", \"string\", \"passthrough\"),\n",
    "  (\"employee_department_l2\", \"string\", \"passthrough\"),\n",
    "  (\"employee_department_l3\", \"string\", \"passthrough\"),\n",
    "  (\"employee_department_l4\", \"string\", \"passthrough\"),\n",
    "  (\"employee_department_l5\", \"string\", \"passthrough\"),\n",
    "  (\"employee_department_l6\", \"string\", \"passthrough\"),\n",
    "  (\"employee_job_level\", \"string\", \"passthrough\"),\n",
    "  (\"employee_job_title\", \"string\", \"passthrough\"),\n",
    "  (\"employee_management_level\", \"string\", \"passthrough\"),\n",
    "  (\"employee_manager_eeid\", \"string\", \"passthrough\"),\n",
    "  (\"employee_territory\", \"string\", \"passthrough\"),\n",
    "  (\"employee_wage_tier\", \"string\", \"passthrough\"),\n",
    "  (\"member_birth_year\", \"string\", \"pass_null\"),\n",
    "  (\"member_email\", \"string\", \"pass_null\"),\n",
    "  (\"member_first_name\", \"string\", \"string_scramble\"),\n",
    "  (\"member_home_address_line_1\", \"string\", \"pass_null\"),\n",
    "  (\"member_home_address_line_2\", \"string\", \"pass_null\"),\n",
    "  (\"member_home_phone\", \"string\", \"pass_null\"),\n",
    "  (\"member_home_state\", \"string\", \"passthrough\"),\n",
    "  (\"member_last_name\", \"string\", \"string_scramble\"),\n",
    "  (\"member_middle_name\", \"string\", \"pass_null\"),\n",
    "  (\"member_nationality\", \"string\", \"passthrough\"),\n",
    "  (\"member_primary_language\", \"string\", \"passthrough\"),\n",
    "  (\"member_ssn\", \"string\", \"ssn_scramble\"),\n",
    "  (\"office_address_line_1\", \"string\", \"pass_null\"),\n",
    "  (\"office_address_line_2\", \"string\", \"pass_null\"),\n",
    "  (\"office_name\", \"string\", \"remap_business_orgs\"),\n",
    "  (\"office_state\", \"string\", \"passthrough\"),\n",
    "  (\"shift\", \"string\", \"passthrough\"),\n",
    "  (\"source_member_id\", \"string\", \"pass_null\"),\n",
    "  (\"subscriber_address_line_1\", \"string\", \"pass_null\"),\n",
    "  (\"subscriber_address_line_2\", \"string\", \"pass_null\"),\n",
    "  (\"subscriber_employee_id\", \"string\", \"pass_null\"),\n",
    "  (\"subscriber_first_name\", \"string\", \"string_scramble\"),\n",
    "  (\"subscriber_id\", \"string\", \"pass_null\"),\n",
    "  (\"subscriber_last_name\", \"string\", \"string_scramble\"),\n",
    "  (\"subscriber_middle_name\", \"string\", \"pass_null\"),\n",
    "  (\"subscriber_ssn\", \"string\", \"ssn_scramble\"),\n",
    "  (\"subscriber_state\", \"string\", \"passthrough\"),\n",
    "  (\"subscriber_work_email\", \"string\", \"pass_null\"),\n",
    "  (\"subscriber_work_phone\", \"string\", \"pass_null\"),\n",
    "  (\"unique_line_id\", \"string\", \"pass_null\"),\n",
    "  (\"working_spouse_contribution\", \"string\", \"passthrough\"),\n",
    "  (\"office_zip_code\", \"string\", \"remap_zip\"),\n",
    "  (\"office_city\", \"string\", \"remap_city\"),\n",
    "  (\"member_home_zip_code\", \"string\", \"remap_zip\"),\n",
    "  (\"member_home_city\", \"string\", \"remap_city\"),\n",
    "  (\"subscriber_zip_code\", \"string\", \"remap_zip\"),\n",
    "  (\"subscriber_city\", \"string\", \"remap_city\"),\n",
    "\n",
    "]\n",
    "\n",
    "hris_zip_city = [\n",
    "  ('member_home_zip_code', 'member_home_city'),\n",
    "  ('subscriber_zip_code', 'subscriber_city'),\n",
    "]"
   ]
  },
  {
   "cell_type": "markdown",
   "metadata": {
    "application/vnd.databricks.v1+cell": {
     "cellMetadata": {
      "byteLimit": 2048000,
      "rowLimit": 10000
     },
     "inputWidgets": {},
     "nuid": "a78e1ceb-26a4-49ca-9fad-338c221e0311",
     "showTitle": false,
     "title": ""
    }
   },
   "source": [
    "## filename <-> converters\n",
    "\n",
    "If you have a new file type, add it here with the corresponding converters."
   ]
  },
  {
   "cell_type": "code",
   "execution_count": 0,
   "metadata": {
    "application/vnd.databricks.v1+cell": {
     "cellMetadata": {
      "byteLimit": 2048000,
      "rowLimit": 10000
     },
     "inputWidgets": {},
     "nuid": "a8331c8e-4ee9-4994-8dcb-9abfc5b8276f",
     "showTitle": false,
     "title": ""
    }
   },
   "outputs": [],
   "source": [
    "dbutils.widgets.text(\"database_name\", \"\")\n",
    "dbutils.widgets.text(\"table_names\", \"\")\n",
    "dbutils.widgets.text(\"test_run\", \"\")\n",
    "\n",
    "database_name = dbutils.widgets.get(\"database_name\")\n",
    "table_names = dbutils.widgets.get(\"table_names\").split(', ')\n",
    "\n",
    "TEST_RUN = bool(dbutils.widgets.get(\"test_run\"))\n",
    "\n",
    "# Uncomment for testing in notebook\n",
    "# database_name = \"prod_wtw_ndc_2023_07_31_15_09_38_eb648a2d_7cd4_40ed_85a4_1c620d12030b\"\n",
    "# table_names = [\"hris\", \"rx\", \"eligibility\", \"med\"]\n",
    "# TEST_RUN = True \n",
    "\n",
    "def get_filetype_translators(database_name: str, table_names: list):\n",
    "    filteType_translator_list = []\n",
    "    for tableName in table_names:\n",
    "      if tableName == 'med':\n",
    "        db_with_table = f'{database_name}.{tableName}'\n",
    "        filteType_translator_list.append((tableName, db_with_table, med_translations, med_zip_city))\n",
    "    \n",
    "      if tableName == 'rx':\n",
    "        db_with_table = f'{database_name}.{tableName}'\n",
    "        filteType_translator_list.append((tableName, db_with_table, rx_translations, rx_zip_city))\n",
    "\n",
    "      if tableName == 'eligibility':\n",
    "        db_with_table = f'{database_name}.{tableName}'\n",
    "        filteType_translator_list.append((tableName, db_with_table, eligibility_translations, eligibility_zip_city))\n",
    "\n",
    "      if tableName == 'hris':\n",
    "        db_with_table = f'{database_name}.{tableName}'\n",
    "        filteType_translator_list.append((tableName, db_with_table, hris_translations, hris_zip_city))\n",
    "\n",
    "    return filteType_translator_list\n",
    "\n",
    "filetype_translators = get_filetype_translators(database_name, table_names)\n",
    "\n",
    "# Define method to write single output file\n",
    "def writeSingleFile(stagingDir: str, destinationDir: str, remove_dir: str):\n",
    "  stagingDirFileInfo = str(dbutils.fs.ls(stagingDir))\n",
    "\n",
    "  # initializing substrings -- if things break look here to confirm we are using correct substring\n",
    "  begin = \"dbfs:\" + stagingDir + \"part\"\n",
    "  end = \"00.csv\"\n",
    "\n",
    "  # get index of substrings\n",
    "  idx1 = stagingDirFileInfo.index(begin)\n",
    "  idx2 = stagingDirFileInfo.index(end)\n",
    "  \n",
    "  result_string = ''\n",
    "\n",
    "  # getting elements in between substring\n",
    "  for idx in range(idx1 + len(begin) + 1, idx2):\n",
    "      result_string = result_string + stagingDirFileInfo[idx]\n",
    "  new_file_name = (begin + '-' + result_string + end).strip('dbfs:')\n",
    "  fileName = ''.join(new_file_name.split('/')[-2])\n",
    "\n",
    "  # log result\n",
    "  print('file moved from folder:', new_file_name)\n",
    "  print('to single file location:', destinationDir)\n",
    "\n",
    "  dbutils.fs.mv(new_file_name, destinationDir, True)\n",
    "  dbutils.fs.rm(remove_dir, True) "
   ]
  },
  {
   "cell_type": "markdown",
   "metadata": {
    "application/vnd.databricks.v1+cell": {
     "cellMetadata": {
      "byteLimit": 2048000,
      "rowLimit": 10000
     },
     "inputWidgets": {},
     "nuid": "02073915-66d9-40b3-9fbc-cf73e575a61e",
     "showTitle": false,
     "title": ""
    }
   },
   "source": [
    "# Run Logic\n",
    "\n",
    "This is the meat and potatoes of what we're doing in here - we're looping over the file types, pulling in the translators, limiting the columns to the ones we want, and then running the conversion process.\n",
    "\n",
    "The converters are defined here in lambdas for convenience because your date_shift has to take in the date_diff from the original source data, or you'd have to manually decide how much you want to shift your dates by.  Outside of the date shift logic needing to be pulled in each run, there's not much of the converters thatcan't be defined above - so it may be simple to define them up above and then \"override\" the date shift one with an updated shift amount.\n",
    "\n",
    "Once that's done we upload them to S3"
   ]
  },
  {
   "cell_type": "code",
   "execution_count": 0,
   "metadata": {
    "application/vnd.databricks.v1+cell": {
     "cellMetadata": {
      "byteLimit": 2048000,
      "rowLimit": 10000
     },
     "inputWidgets": {},
     "nuid": "8a63d173-1f99-4944-b6a2-990f24734884",
     "showTitle": false,
     "title": ""
    }
   },
   "outputs": [],
   "source": [
    "ROW_COUNT = 1000\n",
    "rand_shift_amount = Decimal(randrange(-10, 10)) / Decimal(100.0)"
   ]
  },
  {
   "cell_type": "code",
   "execution_count": 0,
   "metadata": {
    "application/vnd.databricks.v1+cell": {
     "cellMetadata": {
      "byteLimit": 2048000,
      "rowLimit": 10000
     },
     "inputWidgets": {},
     "nuid": "1effba2d-a788-4497-b87f-1ffa3a685a5f",
     "showTitle": false,
     "title": ""
    }
   },
   "outputs": [
    {
     "output_type": "stream",
     "name": "stdout",
     "output_type": "stream",
     "text": [
      "Working on table_name prod_wtw_ndc_2023_07_31_15_09_38_eb648a2d_7cd4_40ed_85a4_1c620d12030b.hris\nLimiting data frame for testing to 1000 rows.\nConverting column name month_key with converter date_shift\nConverting column name employer_name with converter remap_employer\nConverting column name employee_hire_date with converter date_shift\nConverting column name employee_last_hire_date with converter date_shift\nConverting column name employee_seniority_date with converter date_shift\nConverting column name employee_termination_date with converter date_shift\nConverting column name member_birth_date with converter date_shift\nConverting column name record_import_date with converter date_shift\nConverting column name subscriber_birth_date with converter date_shift\nConverting column name employee_salary_annual with converter financial_shift\nConverting column name employee_wage_hourly with converter financial_shift\nConverting column name medical_budget_rate with converter financial_shift\nNo actions to take for passthrough function on employee_flsa_status\nNo actions to take for passthrough function on employee_is_union\nNo actions to take for passthrough function on employee_type\nNo actions to take for passthrough function on employee_wage_type\nNo actions to take for passthrough function on employee_years_of_service\nNo actions to take for passthrough function on marital_status\nNo actions to take for passthrough function on member_ethnicity\nNo actions to take for passthrough function on member_gender\nNo actions to take for passthrough function on member_relationship\nNo actions to take for passthrough function on member_status\nNo actions to take for passthrough function on subscriber_gender\nConverting column name alternate_id with converter pass_null\nNo actions to take for passthrough function on building_section\nNo actions to take for passthrough function on data_source\nNo actions to take for passthrough function on employee_compensation_grade\nNo actions to take for passthrough function on employee_cost_center\nNo actions to take for passthrough function on employee_department\nNo actions to take for passthrough function on employee_department_id\nNo actions to take for passthrough function on employee_department_l2\nNo actions to take for passthrough function on employee_department_l3\nNo actions to take for passthrough function on employee_department_l4\nNo actions to take for passthrough function on employee_department_l5\nNo actions to take for passthrough function on employee_department_l6\nNo actions to take for passthrough function on employee_job_level\nNo actions to take for passthrough function on employee_job_title\nNo actions to take for passthrough function on employee_management_level\nNo actions to take for passthrough function on employee_manager_eeid\nNo actions to take for passthrough function on employee_territory\nNo actions to take for passthrough function on employee_wage_tier\nConverting column name member_birth_year with converter pass_null\nConverting column name member_email with converter pass_null\nConverting column name member_first_name with converter string_scramble\nConverting column name member_home_address_line_1 with converter pass_null\nConverting column name member_home_address_line_2 with converter pass_null\nConverting column name member_home_phone with converter pass_null\nNo actions to take for passthrough function on member_home_state\nConverting column name member_last_name with converter string_scramble\nConverting column name member_middle_name with converter pass_null\nNo actions to take for passthrough function on member_nationality\nNo actions to take for passthrough function on member_primary_language\nConverting column name member_ssn with converter ssn_scramble\nConverting column name office_address_line_1 with converter pass_null\nConverting column name office_address_line_2 with converter pass_null\nNo actions to take for passthrough function on office_state\nNo actions to take for passthrough function on shift\nConverting column name source_member_id with converter pass_null\nConverting column name subscriber_address_line_1 with converter pass_null\nConverting column name subscriber_address_line_2 with converter pass_null\nConverting column name subscriber_employee_id with converter pass_null\nConverting column name subscriber_first_name with converter string_scramble\nConverting column name subscriber_id with converter pass_null\nConverting column name subscriber_last_name with converter string_scramble\nConverting column name subscriber_middle_name with converter pass_null\nConverting column name subscriber_ssn with converter ssn_scramble\nNo actions to take for passthrough function on subscriber_state\nConverting column name subscriber_work_email with converter pass_null\nConverting column name subscriber_work_phone with converter pass_null\nConverting column name unique_line_id with converter pass_null\nNo actions to take for passthrough function on working_spouse_contribution\nConverting column name office_zip_code with converter remap_zip\nConverting column name office_city with converter remap_city\nConverting column name member_home_zip_code with converter remap_zip\nConverting column name member_home_city with converter remap_city\nConverting column name subscriber_zip_code with converter remap_zip\nConverting column name subscriber_city with converter remap_city\nUploading hris to /mnt/artemis-client-etl-data/zeus_files/golden_company/golden_company/2023-09-16/7/hris/hris.csv\nUploaded hris to /mnt/artemis-client-etl-data/zeus_files/golden_company/golden_company/2023-09-16/7/hris/hris.csv\nfile moved from folder: /mnt/artemis-client-etl-data/zeus_files/golden_company/golden_company/2023-09-16/7/hris/hris.csv/part-00000-tid-598819732455337188-8707cfa0-0b1c-40b7-933d-d5fbfc612e6c-1108-1-c000.csv\nto single file location: /mnt/artemis-client-etl-data/zeus_files/golden_company/golden_company/2023-09-16/7/single_file/hris.csv\nWorking on table_name prod_wtw_ndc_2023_07_31_15_09_38_eb648a2d_7cd4_40ed_85a4_1c620d12030b.rx\nLimiting data frame for testing to 1000 rows.\nConverting column name paid_date with converter date_shift\nConverting column name employer_name with converter remap_employer\nConverting column name fill_date with converter date_shift\nConverting column name member_birth_date with converter date_shift\nConverting column name allowed_amount with converter financial_shift\nConverting column name billed_amount with converter financial_shift\nConverting column name cob_amount with converter financial_shift\nConverting column name coinsurance_amount with converter financial_shift\nConverting column name copay_amount with converter financial_shift\nConverting column name deductible_amount with converter financial_shift\nConverting column name dispensing_fee with converter financial_shift\nConverting column name eligible_amount with converter financial_shift\nConverting column name ingredient_cost with converter financial_shift\nConverting column name ingredient_cost_per_unit with converter financial_shift\nConverting column name member_paid_amount with converter financial_shift\nConverting column name paid_amount with converter financial_shift\nConverting column name sales_tax_amount with converter financial_shift\nNo actions to take for passthrough function on quantity_dispensed\nNo actions to take for passthrough function on daw_code\nNo actions to take for passthrough function on days_supply\nNo actions to take for passthrough function on mail_order_indicator\nNo actions to take for passthrough function on maintenance_drug_indicator\nNo actions to take for passthrough function on member_gender\nNo actions to take for passthrough function on member_relationship\nNo actions to take for passthrough function on member_status\nNo actions to take for passthrough function on new_prescription\nNo actions to take for passthrough function on pharmacy_dispenser_type\nNo actions to take for passthrough function on rx_over_the_counter_indicator\nNo actions to take for passthrough function on rx_tier\nNo actions to take for passthrough function on source_generic_indicator\nNo actions to take for passthrough function on specialty_rx_indicator\nNo actions to take for passthrough function on claim_line_status\nNo actions to take for passthrough function on data_source\nNo actions to take for passthrough function on denied_reason\nNo actions to take for passthrough function on dosage_form_code\nNo actions to take for passthrough function on drug_type\nNo actions to take for passthrough function on formulary_status\nNo actions to take for passthrough function on generic_brand_from_pbm\nNo actions to take for passthrough function on generic_brand_in_house\nConverting column name member_first_name with converter string_scramble\nNo actions to take for passthrough function on member_home_state\nConverting column name member_last_name with converter string_scramble\nConverting column name member_middle_name with converter pass_null\nConverting column name member_ssn with converter ssn_scramble\nNo actions to take for passthrough function on ndc\nConverting column name pharmacy_address_line_1 with converter pass_null\nConverting column name pharmacy_address_line_2 with converter pass_null\nConverting column name pharmacy_description with converter pass_null\nConverting column name pharmacy_group with converter pass_null\nConverting column name pharmacy_name with converter pass_null\nNo actions to take for passthrough function on pharmacy_npi\nConverting column name pharmacy_phone_number with converter pass_null\nNo actions to take for passthrough function on pharmacy_state\nConverting column name prescriber_address_line_1 with converter pass_null\nConverting column name prescriber_address_line_2 with converter pass_null\nConverting column name prescriber_first_name with converter pass_null\nConverting column name prescriber_id with converter pass_null\nConverting column name prescriber_last_name with converter pass_null\nConverting column name prescriber_phone_number with converter pass_null\nConverting column name prescriber_provider_name with converter pass_null\nConverting column name prescriber_specialty_code with converter pass_null\nNo actions to take for passthrough function on prescriber_state\nConverting column name prescriber_tax_id with converter pass_null\nConverting column name source_claim_id with converter claim_id_scramble\nConverting column name source_member_id with converter pass_null\nConverting column name subscriber_ssn with converter ssn_scramble\nConverting column name unique_line_id with converter pass_null\nNo actions to take for passthrough function on unit_of_measure\nNo actions to take for passthrough function on upc_code\nConverting column name member_home_zip_code with converter remap_zip\nConverting column name member_home_city with converter remap_city\nConverting column name pharmacy_zip_code with converter remap_zip\nConverting column name pharmacy_city with converter remap_city\nConverting column name prescriber_zip_code with converter remap_zip\nConverting column name prescriber_city with converter remap_city\nUploading rx to /mnt/artemis-client-etl-data/zeus_files/golden_company/golden_company/2023-09-16/7/rx/rx.csv\nUploaded rx to /mnt/artemis-client-etl-data/zeus_files/golden_company/golden_company/2023-09-16/7/rx/rx.csv\nfile moved from folder: /mnt/artemis-client-etl-data/zeus_files/golden_company/golden_company/2023-09-16/7/rx/rx.csv/part-00000-tid-8986972205512880596-bb34b420-12d3-464c-b640-83264616935d-1170-1-c000.csv\nto single file location: /mnt/artemis-client-etl-data/zeus_files/golden_company/golden_company/2023-09-16/7/single_file/rx.csv\nWorking on table_name prod_wtw_ndc_2023_07_31_15_09_38_eb648a2d_7cd4_40ed_85a4_1c620d12030b.eligibility\nLimiting data frame for testing to 1000 rows.\nConverting column name month_key with converter date_shift\nConverting column name employer_name with converter remap_employer\nConverting column name artemis_member_id with converter member_id_scramble\nConverting column name dcra_end_date with converter date_shift\nConverting column name dcra_start_date with converter date_shift\nConverting column name dental_end_date with converter date_shift\nConverting column name dental_start_date with converter date_shift\nConverting column name fsa_end_date with converter date_shift\nConverting column name fsa_start_date with converter date_shift\nConverting column name hra_end_date with converter date_shift\nConverting column name hra_start_date with converter date_shift\nConverting column name hsa_end_date with converter date_shift\nConverting column name hsa_start_date with converter date_shift\nConverting column name long_disab_end_date with converter date_shift\nConverting column name long_disab_start_date with converter date_shift\nConverting column name medical_end_date with converter date_shift\nConverting column name medical_start_date with converter date_shift\nConverting column name member_birth_date with converter date_shift\nConverting column name pass_through_03 with converter date_shift\nConverting column name record_import_date with converter date_shift\nConverting column name rx_end_date with converter date_shift\nConverting column name rx_start_date with converter date_shift\nConverting column name short_disab_end_date with converter date_shift\nConverting column name short_disab_start_date with converter date_shift\nConverting column name subscriber_birth_date with converter date_shift\nConverting column name vision_end_date with converter date_shift\nConverting column name vision_start_date with converter date_shift\nConverting column name dcra_admin_fees with converter financial_shift\nConverting column name dcra_payroll_contribution_employer with converter financial_shift\nConverting column name dcra_payroll_contribution_member with converter financial_shift\nConverting column name dental_admin_fees with converter financial_shift\nConverting column name dental_payroll_contribution_employer with converter financial_shift\nConverting column name dental_payroll_contribution_member with converter financial_shift\nConverting column name fsa_admin_fees with converter financial_shift\nConverting column name fsa_payroll_contribution_employer with converter financial_shift\nConverting column name fsa_payroll_contribution_member with converter financial_shift\nConverting column name hra_admin_fees with converter financial_shift\nConverting column name hra_payroll_contribution_employer with converter financial_shift\nConverting column name hra_payroll_contribution_member with converter financial_shift\nConverting column name hsa_admin_fees with converter financial_shift\nConverting column name hsa_election_amount with converter financial_shift\nConverting column name hsa_payroll_contribution_employer with converter financial_shift\nConverting column name hsa_payroll_contribution_member with converter financial_shift\nConverting column name life_abb_amount with converter financial_shift\nConverting column name long_disab_abb_amount with converter financial_shift\nConverting column name long_disab_admin_fees with converter financial_shift\nConverting column name long_disab_payroll_contribution_employer with converter financial_shift\nConverting column name long_disab_payroll_contribution_member with converter financial_shift\nConverting column name medical_admin_fees with converter financial_shift\nConverting column name medical_member_coinsurance_max with converter financial_shift\nConverting column name medical_member_deductible with converter financial_shift\nConverting column name medical_member_oop_max with converter financial_shift\nConverting column name medical_payroll_contribution_employer with converter financial_shift\nConverting column name medical_payroll_contribution_member with converter financial_shift\nConverting column name medical_plan_coinsurance with converter financial_shift\nConverting column name medical_plan_copay_advanced_imaging with converter financial_shift\nConverting column name medical_plan_copay_behavioral_health_visit with converter financial_shift\nConverting column name medical_plan_copay_chiropractor_visit with converter financial_shift\nConverting column name medical_plan_copay_clinic_visit with converter financial_shift\nConverting column name medical_plan_copay_emergency_room with converter financial_shift\nConverting column name medical_plan_copay_individual_deductible with converter financial_shift\nConverting column name medical_plan_copay_inpatient_hospital with converter financial_shift\nConverting column name medical_plan_copay_outpatient_surgery with converter financial_shift\nConverting column name medical_plan_copay_primary_care_visit with converter financial_shift\nConverting column name medical_plan_copay_rehabilitation_therapy with converter financial_shift\nConverting column name medical_plan_copay_routine_exam with converter financial_shift\nConverting column name medical_plan_copay_specialist_office_visit with converter financial_shift\nConverting column name medical_plan_copay_urgent_care_facility with converter financial_shift\nConverting column name medical_plan_family_deductible with converter financial_shift\nConverting column name medical_plan_family_oop_max with converter financial_shift\nConverting column name medical_plan_individual_oop_max with converter financial_shift\nConverting column name rx_admin_fees with converter financial_shift\nConverting column name rx_payroll_contribution_employer with converter financial_shift\nConverting column name rx_payroll_contribution_member with converter financial_shift\nConverting column name short_disab_admin_fees with converter financial_shift\nConverting column name short_disab_payroll_contribution_employer with converter financial_shift\nConverting column name short_disab_payroll_contribution_member with converter financial_shift\nConverting column name vision_admin_fees with converter financial_shift\nConverting column name vision_payroll_contribution_employer with converter financial_shift\nConverting column name vision_payroll_contribution_member with converter financial_shift\nNo actions to take for passthrough function on dcra_coverage_tier_code\nNo actions to take for passthrough function on dcra_enrollment_status\nNo actions to take for passthrough function on dental_coverage_tier_code\nNo actions to take for passthrough function on dental_enrollment_status\nNo actions to take for passthrough function on eligibility_marked_smoking\nNo actions to take for passthrough function on fsa_coverage_tier_code\nNo actions to take for passthrough function on fsa_enrollment_status\nNo actions to take for passthrough function on hra_coverage_tier_code\nNo actions to take for passthrough function on hra_enrollment_status\nNo actions to take for passthrough function on hsa_coverage_tier_code\nNo actions to take for passthrough function on hsa_enrollment_status\nNo actions to take for passthrough function on long_disab_coverage_tier_code\nNo actions to take for passthrough function on long_disab_enrollment_status\nNo actions to take for passthrough function on medical_coverage_tier_code\nNo actions to take for passthrough function on medical_enrollment_status\nNo actions to take for passthrough function on medical_plan_counts_for_eligibility\nNo actions to take for passthrough function on medical_plan_metal_level\nNo actions to take for passthrough function on medical_plan_network_status_indicator\nNo actions to take for passthrough function on member_gender\nNo actions to take for passthrough function on member_relationship\nNo actions to take for passthrough function on member_status\nNo actions to take for passthrough function on pass_through_02\nNo actions to take for passthrough function on rx_coverage_tier_code\nNo actions to take for passthrough function on rx_enrollment_status\nNo actions to take for passthrough function on short_disab_coverage_tier_code\nNo actions to take for passthrough function on short_disab_enrollment_status\nNo actions to take for passthrough function on subscriber_gender\nNo actions to take for passthrough function on tobacco_surcharge\nNo actions to take for passthrough function on tobacco_surcharge_spouse\nNo actions to take for passthrough function on vision_coverage_tier_code\nNo actions to take for passthrough function on vision_enrollment_status\nConverting column name 401k_plan_name with converter remap_plan\nConverting column name alternate_id with converter pass_null\nNo actions to take for passthrough function on benefit_deduction_group\nNo actions to take for passthrough function on data_source\nNo actions to take for passthrough function on medical_carrier_name\nNo actions to take for passthrough function on medical_plan_category_name\nNo actions to take for passthrough function on medical_plan_description\nNo actions to take for passthrough function on medical_plan_name\nNo actions to take for passthrough function on medical_plan_type\nConverting column name member_email with converter pass_null\nConverting column name member_first_name with converter string_scramble\nConverting column name member_home_address_line_1 with converter pass_null\nConverting column name member_home_address_line_2 with converter pass_null\nConverting column name member_home_phone with converter pass_null\nNo actions to take for passthrough function on member_home_state\nConverting column name member_last_name with converter string_scramble\nConverting column name member_middle_name with converter pass_null\nConverting column name member_ssn with converter ssn_scramble\nConverting column name pass_through_01 with converter pass_null\nConverting column name primary_care_provider_first_name with converter pass_null\nConverting column name primary_care_provider_last_name with converter pass_null\nConverting column name primary_care_provider_npi with converter pass_null\nConverting column name primary_care_provider_source_system_id with converter pass_null\nConverting column name primary_care_provider_tin with converter pass_null\nNo actions to take for passthrough function on rx_carrier_name\nConverting column name rx_plan_name with converter remap_plan\nConverting column name source_401k_plan_id with converter pass_null\nNo actions to take for passthrough function on source_carrier\nConverting column name source_dcra_plan_id with converter pass_null\nConverting column name source_dental_plan_id with converter pass_null\nConverting column name source_fsa_plan_id with converter pass_null\nConverting column name source_hra_plan_id with converter pass_null\nConverting column name source_hsa_plan_id with converter pass_null\nConverting column name source_long_disab_plan_id with converter pass_null\nConverting column name source_medical_plan_id with converter pass_null\nConverting column name source_member_id with converter pass_null\nConverting column name source_rx_plan_id with converter pass_null\nConverting column name source_short_disab_plan_id with converter pass_null\nConverting column name source_subscriber_id with converter pass_null\nConverting column name source_vision_plan_id with converter pass_null\nConverting column name subscriber_address_line_1 with converter pass_null\nConverting column name subscriber_address_line_2 with converter pass_null\nConverting column name subscriber_email with converter pass_null\nConverting column name subscriber_employee_id with converter pass_null\nConverting column name subscriber_first_name with converter string_scramble\nConverting column name subscriber_id with converter pass_null\nConverting column name subscriber_last_name with converter string_scramble\nConverting column name subscriber_middle_name with converter pass_null\nConverting column name subscriber_phone with converter pass_null\nConverting column name subscriber_ssn with converter ssn_scramble\nNo actions to take for passthrough function on subscriber_state\nConverting column name unique_line_id with converter pass_null\nConverting column name member_home_zip_code with converter remap_zip\nConverting column name member_home_city with converter remap_city\nConverting column name subscriber_zip_code with converter remap_zip\nConverting column name subscriber_city with converter remap_city\nUploading eligibility to /mnt/artemis-client-etl-data/zeus_files/golden_company/golden_company/2023-09-16/7/eligibility/eligibility.csv\nUploaded eligibility to /mnt/artemis-client-etl-data/zeus_files/golden_company/golden_company/2023-09-16/7/eligibility/eligibility.csv\nfile moved from folder: /mnt/artemis-client-etl-data/zeus_files/golden_company/golden_company/2023-09-16/7/eligibility/eligibility.csv/part-00000-tid-7690793984770680438-f45366e2-b1c1-488e-a624-042f1612c95d-1281-1-c000.csv\nto single file location: /mnt/artemis-client-etl-data/zeus_files/golden_company/golden_company/2023-09-16/7/single_file/eligibility.csv\nWorking on table_name prod_wtw_ndc_2023_07_31_15_09_38_eb648a2d_7cd4_40ed_85a4_1c620d12030b.med\nLimiting data frame for testing to 1000 rows.\nConverting column name employer_name with converter remap_employer\nConverting column name paid_date with converter date_shift\nConverting column name admit_date with converter date_shift\nConverting column name discharge_date with converter date_shift\nConverting column name from_date with converter date_shift\nConverting column name member_birth_date with converter date_shift\nConverting column name pass_through_03 with converter pass_null\nConverting column name to_date with converter date_shift\nConverting column name allowed_amount with converter financial_shift\nConverting column name billed_amount with converter financial_shift\nConverting column name cob_amount with converter financial_shift\nConverting column name coinsurance_amount with converter financial_shift\nConverting column name copay_amount with converter financial_shift\nConverting column name deductible_amount with converter financial_shift\nConverting column name discount_amount with converter financial_shift\nConverting column name eligible_amount with converter financial_shift\nConverting column name hra_amount with converter financial_shift\nConverting column name member_paid_amount with converter financial_shift\nConverting column name net_adjustment with converter financial_shift\nConverting column name not_covered_amount with converter financial_shift\nConverting column name paid_amount with converter financial_shift\nNo actions to take for passthrough function on units\nNo actions to take for passthrough function on admit_type\nNo actions to take for passthrough function on capitated_encounter_indicator\nNo actions to take for passthrough function on claim_line_index\nNo actions to take for passthrough function on covered_days\nNo actions to take for passthrough function on drg\nNo actions to take for passthrough function on mdc\nNo actions to take for passthrough function on member_gender\nNo actions to take for passthrough function on member_relationship\nNo actions to take for passthrough function on member_status\nNo actions to take for passthrough function on network_status_indicator\nConverting column name pass_through_02 with converter pass_null\nNo actions to take for passthrough function on premium_provider_indicator\nNo actions to take for passthrough function on adjustment_type\nNo actions to take for passthrough function on bill_type\nConverting column name billing_provider_address_line_1 with converter pass_null\nConverting column name billing_provider_address_line_2 with converter pass_null\nConverting column name billing_provider_name with converter pass_null\nNo actions to take for passthrough function on billing_provider_npi\nConverting column name billing_provider_phone with converter pass_null\nConverting column name billing_provider_specialty_code with converter pass_null\nNo actions to take for passthrough function on billing_provider_state\nConverting column name billing_provider_tax_id with converter pass_null\nConverting column name billing_provider_type with converter pass_null\nNo actions to take for passthrough function on claim_line_status\nNo actions to take for passthrough function on claim_type\nNo actions to take for passthrough function on data_source\nNo actions to take for passthrough function on discharge_status\nNo actions to take for passthrough function on drg_type\nNo actions to take for passthrough function on icd_dx_poa_1\nNo actions to take for passthrough function on icd_dx_poa_2\nNo actions to take for passthrough function on icd_dx_poa_3\nNo actions to take for passthrough function on icd_dx_poa_4\nNo actions to take for passthrough function on icd_dx_poa_5\nNo actions to take for passthrough function on icd_dx_poa_6\nNo actions to take for passthrough function on icd10_dx_1\nNo actions to take for passthrough function on icd10_dx_2\nNo actions to take for passthrough function on icd10_dx_3\nNo actions to take for passthrough function on icd10_dx_4\nNo actions to take for passthrough function on icd10_dx_5\nNo actions to take for passthrough function on icd10_dx_6\nNo actions to take for passthrough function on icd10_proc_1\nNo actions to take for passthrough function on icd10_proc_2\nNo actions to take for passthrough function on icd10_proc_3\nNo actions to take for passthrough function on icd10_proc_4\nNo actions to take for passthrough function on icd10_proc_5\nNo actions to take for passthrough function on icd10_proc_6\nNo actions to take for passthrough function on icd9_dx_1\nNo actions to take for passthrough function on icd9_dx_2\nNo actions to take for passthrough function on icd9_dx_3\nNo actions to take for passthrough function on icd9_dx_4\nNo actions to take for passthrough function on icd9_dx_5\nNo actions to take for passthrough function on icd9_dx_6\nNo actions to take for passthrough function on icd9_proc_1\nNo actions to take for passthrough function on icd9_proc_2\nNo actions to take for passthrough function on icd9_proc_3\nNo actions to take for passthrough function on icd9_proc_4\nNo actions to take for passthrough function on icd9_proc_5\nNo actions to take for passthrough function on icd9_proc_6\nConverting column name member_first_name with converter string_scramble\nNo actions to take for passthrough function on member_home_state\nConverting column name member_last_name with converter string_scramble\nConverting column name member_middle_name with converter pass_null\nConverting column name member_ssn with converter ssn_scramble\nNo actions to take for passthrough function on nucc_taxonomy_specialty\nConverting column name pass_through_01 with converter pass_null\nNo actions to take for passthrough function on place_of_service_code\nNo actions to take for passthrough function on procedure_code\nNo actions to take for passthrough function on procedure_code_modifier\nNo actions to take for passthrough function on revenue_code\nConverting column name servicing_provider_address_line_1 with converter pass_null\nConverting column name servicing_provider_address_line_2 with converter pass_null\nConverting column name servicing_provider_name with converter pass_null\nNo actions to take for passthrough function on servicing_provider_npi\nNo actions to take for passthrough function on servicing_provider_specialty_code\nNo actions to take for passthrough function on servicing_provider_state\nConverting column name servicing_provider_tax_id with converter pass_null\nConverting column name servicing_provider_type with converter pass_null\nConverting column name source_claim_id with converter claim_id_scramble\nConverting column name source_member_id with converter pass_null\nConverting column name subscriber_employee_id with converter pass_null\nConverting column name subscriber_ssn with converter ssn_scramble\nNo actions to take for passthrough function on type_of_service_code\nNo actions to take for passthrough function on unique_line_id\nConverting column name billing_provider_city with converter remap_city\nConverting column name billing_provider_zip_code with converter remap_zip\nConverting column name member_home_city with converter remap_city\nConverting column name member_home_zip_code with converter remap_zip\nConverting column name servicing_provider_city with converter remap_city\nConverting column name servicing_provider_zip_code with converter remap_zip\nUploading med to /mnt/artemis-client-etl-data/zeus_files/golden_company/golden_company/2023-09-16/7/med/med.csv\nUploaded med to /mnt/artemis-client-etl-data/zeus_files/golden_company/golden_company/2023-09-16/7/med/med.csv\nfile moved from folder: /mnt/artemis-client-etl-data/zeus_files/golden_company/golden_company/2023-09-16/7/med/med.csv/part-00000-tid-5639970101403771593-7c53a040-b8c7-4b40-ad49-b62fc9c3f5f1-1367-1-c000.csv\nto single file location: /mnt/artemis-client-etl-data/zeus_files/golden_company/golden_company/2023-09-16/7/single_file/med.csv\nCompleted run 7\n"
     ]
    }
   ],
   "source": [
    "RUN_NUMBER += 1\n",
    "\n",
    "# Loop through the types, table names, and translations and apply all the business logic we need to each of them.  The logic in the below loop can probably be\n",
    "# abstracted better than this, but it doesn't make sense to pull it all into a function just to remove one level of nesting if it doesn't remove any of the \n",
    "# complexity.  Someone smarter than me should optimize this so it's not quite so jumbled.\n",
    "for file_type, table_name, translations, zip_city_conversions in filetype_translators:\n",
    "  print(f\"Working on table_name {table_name}\")\n",
    "  \n",
    "  # Get yo table son\n",
    "  df = spark.read.table(table_name)\n",
    "  \n",
    "  # Add a limit like this for testing or it will take forever to run.\n",
    "  if TEST_RUN:\n",
    "    print(f\"Limiting data frame for testing to {ROW_COUNT} rows.\")\n",
    "    df = df.limit(ROW_COUNT)\n",
    "  else:\n",
    "    print('we will NOT limit row count in output')\n",
    "\n",
    "  # This line is filtering the columns available to the ones that we want in the conversion - without this we have a lot of untouched\n",
    "  # columns, which may or may not be desired, but this way we've only got the columns that we know of so we've got more control of the moutput dataset to make sure we don't accidentally expose things we didn't intend to - i.e. every column in the resulting data set should be there intentionally, not by accident.\n",
    "  df = df[[translation[0] for translation in translations]]\n",
    "  # Right now this is a bit of a hack for which column we use for the date filter - there's got to be a better way of doing this, but without\n",
    "  # getting complex in the input data structure for the translators and stuff, this is a much simpler solution that works for the existing\n",
    "  # file types that we know of.  As much as I'd like a good data structure for the input configuration, this is 30s of code to write to \n",
    "  # alter filtering requirements based on the file type...so...this is what you get for now\n",
    "  if file_type in ('eligibility', 'hris'):\n",
    "    \n",
    "    if file_type in ('hris'):\n",
    "      df1 = remap_hris_business_orgs(df, \"employee_department\")\n",
    "      df2 = remap_hris_business_orgs(df1, \"employee_department_l2\")\n",
    "      df3 = remap_hris_business_orgs(df2, \"employee_department_l3\")\n",
    "      df4 = remap_hris_business_orgs(df3, \"employee_department_l4\")\n",
    "      df5 = remap_hris_business_orgs(df4, \"employee_department_l5\")\n",
    "      df6 = remap_hris_business_orgs(df5, \"employee_department_l6\")\n",
    "      df = remap_hris_business_orgs(df6, \"office_name\")\n",
    "\n",
    "    if file_type in ('eligibility'):\n",
    "      df7 = remap_hris_business_orgs(df, \"medical_plan_name\")\n",
    "      df = remap_hris_business_orgs(df7, \"medical_plan_description\")\n",
    "    \n",
    "    max_date = df.select(max(df.month_key)).collect()[0]['max(month_key)']\n",
    " \n",
    "  else:\n",
    "    max_date = df.select(max(df.paid_date)).collect()[0]['max(paid_date)']\n",
    "\n",
    "  # If the max date is none we're going to default to no shift for now, but this is an area we might be able to improve the logic\n",
    "  # to look at other columns or something like that so we aren't left with a non-shifted dataset.\n",
    "  if max_date is None:\n",
    "    max_date =pd.Timestamp.now().date()\n",
    "    \n",
    "  date_diff = pd.Timestamp.now().date() - max_date\n",
    "\n",
    "  # All converters used/implemented\n",
    "  converters = {\n",
    "    # NOTE: Date diff must be calculated from the individual files - that converter needs to be instantiated per file\n",
    "    # The rest aren't really something that needs to be instantiated on their own, but there's not much overhead to\n",
    "    # instantiating them each time so it seems like it makes more sense to do it every time right now so that it's\n",
    "    # easier to logic rather than having lots of complexity.\n",
    "    'string_scramble': udf(lambda x: string_scramble(x), StringType()),\n",
    "    'date_shift': udf(lambda x: date_shift(date_diff.days, x), StringType()),\n",
    "    'ssn_scramble': udf(lambda x: ssn_scramble(x), StringType()),\n",
    "    'financial_shift': udf(lambda x: financial_shift(x), DecimalType()),\n",
    "    'remap_zip': udf(lambda x: remap_zip(x), StringType()),\n",
    "    'remap_city': udf(lambda x: remap_city(remap_city(x)), StringType()), \n",
    "    'remap_plan': udf(lambda x: string_scramble(x), StringType()),\n",
    "    'remap_employer': udf(lambda x: remap_employer(x), StringType()),\n",
    "    'member_id_scramble': udf(lambda artemis_member_id: member_id_scramble(artemis_member_id), StringType()), \n",
    "    'claim_id_scramble': udf(lambda x: claim_id_scramble(x), StringType()),\n",
    "    'pass_null': udf(lambda x: '', StringType())\n",
    "  }\n",
    "  \n",
    "  # Loop over the translations for each column - if it's a pass through there's nothign to do, otherwise apply the \n",
    "  # lambda that's appropriate for that column.\n",
    "  for column_name, datatype, function_name in translations:\n",
    "\n",
    "    # Don't do anything to the base dataframe should just continue rather than implementing a function that does\n",
    "    # a distributed command of \"Don't do anything\".  That don't make no sense.\n",
    "    if function_name == \"passthrough\":\n",
    "      print(f\"No actions to take for passthrough function on {column_name}\")\n",
    "      continue\n",
    "\n",
    "    converter = converters.get(function_name)\n",
    "\n",
    "    # Raise a not implemented error so we don't ever pass over a column that has a relationship defined without\n",
    "    # explicitly adding it to an exception after someone looks at it.  \n",
    "    if converter is None:\n",
    "      continue \n",
    "      # raise NotImplementedError(f\"No converter for function {function_name} - make sure one exists.\")\n",
    "\n",
    "    print(f\"Converting column name {column_name} with converter {function_name}\")\n",
    "    df = df.withColumn(column_name, converters[function_name](col(column_name)))\n",
    "  \n",
    "  # Once we've finished converting the dataframe we want to write it to S3 with some print statements so it's somewhat obvious\n",
    "  # where we're at in the process.\n",
    "\n",
    "  file_dir = f'{BASE_TARGET_DIRECTORY}{COMPANY_NAME}/{RUN_DATE}/{RUN_NUMBER}/{file_type}/{file_type}.csv'\n",
    "  print(f\"Uploading {file_type} to {file_dir}\")\n",
    "  df.coalesce(1).write.options(header=True).csv(file_dir)\n",
    "  print(f\"Uploaded {file_type} to {file_dir}\")\n",
    "\n",
    "  staging_dir = f'{file_dir}/'\n",
    "  destination_dir = f'{BASE_TARGET_DIRECTORY}{COMPANY_NAME}/{RUN_DATE}/{RUN_NUMBER}/single_file/{file_type}.csv'\n",
    "  remove_dir = f'{BASE_TARGET_DIRECTORY}{COMPANY_NAME}/{RUN_DATE}/{RUN_NUMBER}/{file_type}/'\n",
    "\n",
    "  writeSingleFile(staging_dir, destination_dir, remove_dir)\n",
    "  \n",
    "print(f\"Completed run {RUN_NUMBER}\")"
   ]
  },
  {
   "cell_type": "code",
   "execution_count": 0,
   "metadata": {
    "application/vnd.databricks.v1+cell": {
     "cellMetadata": {},
     "inputWidgets": {},
     "nuid": "f7421479-803d-4328-b45f-1c459abd0f48",
     "showTitle": false,
     "title": ""
    }
   },
   "outputs": [],
   "source": []
  }
 ],
 "metadata": {
  "application/vnd.databricks.v1+notebook": {
   "dashboards": [],
   "language": "python",
   "notebookMetadata": {
    "mostRecentlyExecutedCommandWithImplicitDF": {
     "commandId": 2180494861048769,
     "dataframes": [
      "_sqldf"
     ]
    },
    "pythonIndentUnit": 2
   },
   "notebookName": "Golden Data_Clone",
   "widgets": {
    "database_name": {
     "currentValue": "",
     "nuid": "db7c1bc7-f6a7-4457-a94d-848d537f7470",
     "widgetInfo": {
      "widgetType": "text",
      "defaultValue": "",
      "label": null,
      "name": "database_name",
      "options": {
       "widgetType": "text",
       "validationRegex": null
      }
     }
    },
    "row_count": {
     "currentValue": "",
     "nuid": "f80cd34c-8d18-4130-b4e9-2bdf45b405a2",
     "widgetInfo": {
      "widgetType": "text",
      "defaultValue": "",
      "label": null,
      "name": "row_count",
      "options": {
       "widgetType": "text",
       "validationRegex": null
      }
     }
    },
    "table_names": {
     "currentValue": "",
     "nuid": "205e355e-85d8-4a63-bd59-2fb0b476e4e9",
     "widgetInfo": {
      "widgetType": "text",
      "defaultValue": "",
      "label": null,
      "name": "table_names",
      "options": {
       "widgetType": "text",
       "validationRegex": null
      }
     }
    },
    "test_run": {
     "currentValue": "",
     "nuid": "607341f1-ff56-48d0-9b43-58d194288881",
     "widgetInfo": {
      "widgetType": "text",
      "defaultValue": "",
      "label": null,
      "name": "test_run",
      "options": {
       "widgetType": "text",
       "validationRegex": null
      }
     }
    }
   }
  }
 },
 "nbformat": 4,
 "nbformat_minor": 0
}
